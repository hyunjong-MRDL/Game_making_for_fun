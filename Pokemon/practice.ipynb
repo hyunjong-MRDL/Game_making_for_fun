{
 "cells": [
  {
   "cell_type": "code",
   "execution_count": 1,
   "metadata": {},
   "outputs": [],
   "source": [
    "import sampling\n",
    "import numpy as np"
   ]
  },
  {
   "cell_type": "code",
   "execution_count": 2,
   "metadata": {},
   "outputs": [],
   "source": [
    "sample_monster = sampling.monster_sample()"
   ]
  },
  {
   "cell_type": "code",
   "execution_count": 3,
   "metadata": {},
   "outputs": [
    {
     "name": "stdout",
     "output_type": "stream",
     "text": [
      "Name: Charmander\tType: Fire\tNature: Rash\n",
      "Level: 1\tEXP: 0\n",
      "HP: 11\n",
      "PA: 6\n",
      "PD: 6\n",
      "SA: 7\n",
      "SD: 5\n",
      "SP: 6\n"
     ]
    }
   ],
   "source": [
    "print(f\"Name: {sample_monster.name}\\tType: {sample_monster.attr}\\tNature: {sample_monster.nature}\")\n",
    "print(f\"Level: {sample_monster.level}\\tEXP: {sample_monster.EXP}\")\n",
    "print(f\"HP: {sample_monster.__net_ability__(0)}\")\n",
    "print(f\"PA: {sample_monster.__net_ability__(1)}\")\n",
    "print(f\"PD: {sample_monster.__net_ability__(2)}\")\n",
    "print(f\"SA: {sample_monster.__net_ability__(3)}\")\n",
    "print(f\"SD: {sample_monster.__net_ability__(4)}\")\n",
    "print(f\"SP: {sample_monster.__net_ability__(5)}\")"
   ]
  },
  {
   "cell_type": "code",
   "execution_count": null,
   "metadata": {},
   "outputs": [
    {
     "data": {
      "text/plain": [
       "array([0, 0, 0, 0, 0, 0, 0, 0, 0, 0, 0, 0, 0, 0, 0, 0, 0, 0, 0, 0, 0, 0,\n",
       "       0, 0, 0])"
      ]
     },
     "execution_count": 17,
     "metadata": {},
     "output_type": "execute_result"
    }
   ],
   "source": [
    "map_path = r\"MAPS/map_data.npy\"\n",
    "game_map = np.load(map_path)\n",
    "p_center = np.where(game_map==1)\n",
    "initial_pos = (p_center[0].item()+1, p_center[1].item())"
   ]
  }
 ],
 "metadata": {
  "kernelspec": {
   "display_name": "game",
   "language": "python",
   "name": "python3"
  },
  "language_info": {
   "codemirror_mode": {
    "name": "ipython",
    "version": 3
   },
   "file_extension": ".py",
   "mimetype": "text/x-python",
   "name": "python",
   "nbconvert_exporter": "python",
   "pygments_lexer": "ipython3",
   "version": "3.12.3"
  }
 },
 "nbformat": 4,
 "nbformat_minor": 2
}
