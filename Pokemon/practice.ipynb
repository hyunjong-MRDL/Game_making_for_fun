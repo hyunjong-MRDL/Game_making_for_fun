{
 "cells": [
  {
   "cell_type": "code",
   "execution_count": 34,
   "metadata": {},
   "outputs": [],
   "source": [
    "import sampling"
   ]
  },
  {
   "cell_type": "code",
   "execution_count": 35,
   "metadata": {},
   "outputs": [],
   "source": [
    "sample_monster = sampling.monster_sample()"
   ]
  },
  {
   "cell_type": "code",
   "execution_count": 36,
   "metadata": {},
   "outputs": [
    {
     "name": "stdout",
     "output_type": "stream",
     "text": [
      "Name: Charmander\tType: Fire\tNature: Naughty\n",
      "Level: 1\tEXP: 0\n",
      "HP: 11\n",
      "PA: 6\n",
      "PD: 5\n",
      "SA: 6\n",
      "SD: 5\n",
      "SP: 6\n"
     ]
    }
   ],
   "source": [
    "print(f\"Name: {sample_monster.name}\\tType: {sample_monster.attr}\\tNature: {sample_monster.nature}\")\n",
    "print(f\"Level: {sample_monster.level}\\tEXP: {sample_monster.EXP}\")\n",
    "print(f\"HP: {sample_monster.__net_ability__(0)}\")\n",
    "print(f\"PA: {sample_monster.__net_ability__(1)}\")\n",
    "print(f\"PD: {sample_monster.__net_ability__(2)}\")\n",
    "print(f\"SA: {sample_monster.__net_ability__(3)}\")\n",
    "print(f\"SD: {sample_monster.__net_ability__(4)}\")\n",
    "print(f\"SP: {sample_monster.__net_ability__(5)}\")"
   ]
  }
 ],
 "metadata": {
  "kernelspec": {
   "display_name": "torch",
   "language": "python",
   "name": "python3"
  },
  "language_info": {
   "codemirror_mode": {
    "name": "ipython",
    "version": 3
   },
   "file_extension": ".py",
   "mimetype": "text/x-python",
   "name": "python",
   "nbconvert_exporter": "python",
   "pygments_lexer": "ipython3",
   "version": "3.11.7"
  }
 },
 "nbformat": 4,
 "nbformat_minor": 2
}
