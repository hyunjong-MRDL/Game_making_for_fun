{
 "cells": [
  {
   "cell_type": "code",
   "execution_count": 2,
   "metadata": {},
   "outputs": [],
   "source": [
    "import attribute, nature, monsters\n",
    "import random"
   ]
  },
  {
   "cell_type": "code",
   "execution_count": 2,
   "metadata": {},
   "outputs": [
    {
     "name": "stdout",
     "output_type": "stream",
     "text": [
      "Ghost Naive\n"
     ]
    }
   ],
   "source": [
    "attribute_list = attribute.attribute_list\n",
    "attr_idx = random.randint(0, len(attribute_list)-1)\n",
    "sample_attr = attribute_list[attr_idx]\n",
    "\n",
    "nature_list = nature.nature_list\n",
    "nature_idx = random.randint(0, len(nature_list)-1)\n",
    "sample_nature = nature_list[nature_idx]\n",
    "\n",
    "print(sample_attr, sample_nature)"
   ]
  },
  {
   "cell_type": "code",
   "execution_count": 3,
   "metadata": {},
   "outputs": [],
   "source": [
    "sample_level = random.randint(1, 50)\n",
    "BS_list, IV_list, EV_list = [], [], []\n",
    "for i in range(6):\n",
    "    BS_list.append(random.randint(1, 80))\n",
    "    IV_list.append(random.randint(0, 31))\n",
    "    EV_list.append(random.randint(0, 85))\n",
    "rank = 0"
   ]
  },
  {
   "cell_type": "code",
   "execution_count": 4,
   "metadata": {},
   "outputs": [],
   "source": [
    "sample_monster = monsters.Monster(\"SAMPLE\", sample_attr, sample_level, sample_nature, BS_list, IV_list, EV_list, rank)"
   ]
  },
  {
   "cell_type": "code",
   "execution_count": 6,
   "metadata": {},
   "outputs": [
    {
     "name": "stdout",
     "output_type": "stream",
     "text": [
      "Name: SAMPLE\tType: Ghost\n",
      "Level: 28\tNature: Naive\n",
      "HP: 52\n",
      "PA: 42\n",
      "PD: 18\n",
      "SA: 37\n",
      "SD: 44\n",
      "SP: 24\n"
     ]
    }
   ],
   "source": [
    "print(f\"Name: {sample_monster.name}\\tType: {sample_monster.attr}\")\n",
    "print(f\"Level: {sample_monster.level}\\tNature: {sample_monster.nature}\")\n",
    "print(f\"HP: {sample_monster.__net_ability__(0)}\")\n",
    "print(f\"PA: {sample_monster.__net_ability__(1)}\")\n",
    "print(f\"PD: {sample_monster.__net_ability__(2)}\")\n",
    "print(f\"SA: {sample_monster.__net_ability__(3)}\")\n",
    "print(f\"SD: {sample_monster.__net_ability__(4)}\")\n",
    "print(f\"SP: {sample_monster.__net_ability__(5)}\")"
   ]
  },
  {
   "cell_type": "code",
   "execution_count": 3,
   "metadata": {},
   "outputs": [],
   "source": [
    "type_eff_matrix = attribute.updated_type_matrix"
   ]
  }
 ],
 "metadata": {
  "kernelspec": {
   "display_name": "opcv",
   "language": "python",
   "name": "python3"
  },
  "language_info": {
   "codemirror_mode": {
    "name": "ipython",
    "version": 3
   },
   "file_extension": ".py",
   "mimetype": "text/x-python",
   "name": "python",
   "nbconvert_exporter": "python",
   "pygments_lexer": "ipython3",
   "version": "3.12.4"
  }
 },
 "nbformat": 4,
 "nbformat_minor": 2
}
